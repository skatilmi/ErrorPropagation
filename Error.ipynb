{
 "cells": [
  {
   "cell_type": "code",
   "execution_count": 1,
   "id": "3949443a",
   "metadata": {},
   "outputs": [],
   "source": [
    "import sympy as sp\n",
    "import numpy as np\n",
    "from IPython.display import display\n",
    "from sympy.utilities.lambdify import lambdastr\n",
    "import inspect\n",
    "import matplotlib.pyplot as plt\n",
    "from typing import List\n"
   ]
  },
  {
   "cell_type": "code",
   "execution_count": 2,
   "id": "375cb2bc",
   "metadata": {},
   "outputs": [],
   "source": [
    "class Code:\n",
    "    def __init__(self, x_, f_):\n",
    "        raw_code = inspect.getsource(\n",
    "            sp.lambdify(x_, f_)).split('return')[-1]\n",
    "        raw_code = raw_code.replace('exp', 'np.exp')\n",
    "        raw_code = raw_code.replace('sqrt', 'np.sqrt')\n",
    "\n",
    "        raw_code = raw_code.replace('sin', 'np.sin')\n",
    "        raw_code = raw_code.replace('cos', 'np.cos')\n",
    "        raw_code = raw_code.replace('tan', 'np.tan')\n",
    "\n",
    "        raw_code = raw_code.replace('atan', 'np.arctan')\n",
    "        raw_code = raw_code.replace('asin', 'np.arcsin')\n",
    "        raw_code = raw_code.replace('acos', 'np.arccos')\n",
    "\n",
    "        raw_code = raw_code.replace('tanh', 'np.tanh')\n",
    "        raw_code = raw_code.replace('sinh', 'np.sinh')\n",
    "        raw_code = raw_code.replace('cosh', 'np.cosh')\n",
    "        self.raw_code = raw_code\n",
    "        self.t = sp.lambdify(x_, f_)"
   ]
  },
  {
   "cell_type": "code",
   "execution_count": 3,
   "id": "65f9f6b8",
   "metadata": {},
   "outputs": [],
   "source": [
    "class Error_propagation:\n",
    "    def  __init__(self,func):\n",
    "        self.func = func\n",
    "        self.F = sp.Symbol('f')\n",
    "        self.F_err = sp.Symbol('\\Delta f')\n",
    "\n",
    "\n",
    "        self.f = sp.parse_expr(self.func)\n",
    "        print('input expression:')\n",
    "\n",
    "\n",
    "\n",
    "        print('#'*20)\n",
    "        print('INPUT')\n",
    "        self._f = sp.latex(self.f)\n",
    "\n",
    "        display(self.f)\n",
    "        print('python rep:')\n",
    "        display(Code(sp.Symbol('x'), self.f).raw_code.strip())\n",
    "        print('#'*20)\n",
    "        print('OUTPUT')\n",
    "        self.substitution = False\n",
    "        self.do_error()\n",
    "        \n",
    "    def k(self, symbol:str, f_:sp.Expr):\n",
    "        a = sp.diff(f_, sp.Symbol(symbol))*sp.Symbol('\\\\Delta '+symbol)\n",
    "        a = a**2\n",
    "        return a\n",
    "\n",
    "    def set_error_to_zero(self,params:List[str]):\n",
    "        print('-'*20)\n",
    "        p = self.error\n",
    "        for param in params:\n",
    "            var = '\\\\Delta '+param\n",
    "            p = p.subs(var,0)\n",
    "\n",
    "        print('substituted params\\' error with 0: '+', '.join(params))\n",
    "\n",
    "\n",
    "        self.error_0 = p\n",
    "        display(sp.sqrt(self.error_0))\n",
    "        self._err2 = sp.latex(self.error_0)\n",
    "\n",
    "        err_simple = self.F*sp.simplify(sp.sqrt(self.error_0/self.f**2))\n",
    "        display(err_simple)\n",
    "        self._err2_simple = sp.latex(err_simple)\n",
    "\n",
    "        self.substitution = True\n",
    "\n",
    "    \n",
    "    def do_error(self):\n",
    "\n",
    "        self.error = sum(self.k(i, self.f) for i in list(map(str,self.f.free_symbols)))\n",
    "        display(sp.sqrt(self.error))\n",
    "        self._err1 = sp.latex(sp.sqrt(self.error))\n",
    "\n",
    "        err_simple = self.F*sp.simplify(sp.sqrt(self.error/self.f**2))\n",
    "        arg = sp.simplify(self.error/self.f**2)\n",
    "\n",
    "        f = 0\n",
    "        for summand in arg.args:\n",
    "            for symbol in self.f.free_symbols:\n",
    "                if symbol in summand.free_symbols and sp.Symbol('\\\\Delta '+str(symbol)) in summand.free_symbols:\n",
    "                    f+=summand*(sp.Symbol('\\\\Delta '+str(symbol)+'_\\\\%')**2) * symbol**2/sp.Symbol('\\\\Delta '+str(symbol))**2\n",
    "        err_rel = self.F*sp.simplify(sp.sqrt(f))\n",
    "        display(err_rel)\n",
    "        display(err_simple)\n",
    "        self._err1_simple = sp.latex(err_simple)\n",
    "\n",
    "    def print_errors(self):\n",
    "        print(self._err1)\n",
    "        print(self._err1_simple)\n",
    "        if self.substitution:\n",
    "            print(self._err2)\n",
    "            print(self._err2_simple)\n",
    "\n",
    "    def get_errors(self):\n",
    "        return self._err1, self._err1_simple, self._err2, self._err2_simple\n"
   ]
  },
  {
   "cell_type": "code",
   "execution_count": 4,
   "id": "ef207714",
   "metadata": {},
   "outputs": [
    {
     "name": "stdout",
     "output_type": "stream",
     "text": [
      "input expression:\n",
      "####################\n",
      "INPUT\n"
     ]
    },
    {
     "data": {
      "text/latex": [
       "$\\displaystyle 5 b c \\cos{\\left(k \\right)}$"
      ],
      "text/plain": [
       "5*b*c*cos(k)"
      ]
     },
     "metadata": {},
     "output_type": "display_data"
    },
    {
     "name": "stdout",
     "output_type": "stream",
     "text": [
      "python rep:\n"
     ]
    },
    {
     "data": {
      "text/plain": [
       "'(5*b*c*np.cos(k))'"
      ]
     },
     "metadata": {},
     "output_type": "display_data"
    },
    {
     "name": "stdout",
     "output_type": "stream",
     "text": [
      "####################\n",
      "OUTPUT\n"
     ]
    },
    {
     "data": {
      "text/latex": [
       "$\\displaystyle \\sqrt{25 \\Delta b^{2} c^{2} \\cos^{2}{\\left(k \\right)} + 25 \\Delta c^{2} b^{2} \\cos^{2}{\\left(k \\right)} + 25 \\Delta k^{2} b^{2} c^{2} \\sin^{2}{\\left(k \\right)}}$"
      ],
      "text/plain": [
       "sqrt(25*\\Delta b**2*c**2*cos(k)**2 + 25*\\Delta c**2*b**2*cos(k)**2 + 25*\\Delta k**2*b**2*c**2*sin(k)**2)"
      ]
     },
     "metadata": {},
     "output_type": "display_data"
    },
    {
     "data": {
      "text/latex": [
       "$\\displaystyle f \\sqrt{\\Delta b_{\\%}^{2} + \\Delta c_{\\%}^{2} + \\Delta k_{\\%}^{2} k^{2} \\tan^{2}{\\left(k \\right)}}$"
      ],
      "text/plain": [
       "f*sqrt(\\Delta b_\\%**2 + \\Delta c_\\%**2 + \\Delta k_\\%**2*k**2*tan(k)**2)"
      ]
     },
     "metadata": {},
     "output_type": "display_data"
    },
    {
     "data": {
      "text/latex": [
       "$\\displaystyle f \\sqrt{\\frac{\\Delta b^{2}}{b^{2}} + \\frac{\\Delta c^{2}}{c^{2}} + \\Delta k^{2} \\tan^{2}{\\left(k \\right)}}$"
      ],
      "text/plain": [
       "f*sqrt(\\Delta b**2/b**2 + \\Delta c**2/c**2 + \\Delta k**2*tan(k)**2)"
      ]
     },
     "metadata": {},
     "output_type": "display_data"
    }
   ],
   "source": [
    "#E = Error_propagation('R_0*(1+(a*T)+(b*T**2)+((c*T**3)*(T-100)))')\n",
    "#E.set_error_to_zero(['T','R_0'])\n",
    "E = Error_propagation('5*cos(k)*b*c')\n",
    "#E.set_error_to_zero(['a'])\n",
    "#E.print_errors()"
   ]
  },
  {
   "cell_type": "markdown",
   "id": "e41b06c5",
   "metadata": {},
   "source": [
    "$\\Delta f = \\sqrt{\\frac{4 \\Delta a_{0}^{2} a_{0}^{2}}{\\cos^{4}{\\left(\\frac{k_{1}}{k_{2}} \\right)}} + \\frac{4 \\Delta k_{1}^{2} a_{0}^{4} \\sin^{2}{\\left(\\frac{k_{1}}{k_{2}} \\right)}}{k_{2}^{2} \\cos^{6}{\\left(\\frac{k_{1}}{k_{2}} \\right)}} + \\frac{4 \\Delta k_{2}^{2} a_{0}^{4} k_{1}^{2} \\sin^{2}{\\left(\\frac{k_{1}}{k_{2}} \\right)}}{k_{2}^{4} \\cos^{6}{\\left(\\frac{k_{1}}{k_{2}} \\right)}}} $"
   ]
  },
  {
   "cell_type": "markdown",
   "id": "2b6534eb",
   "metadata": {},
   "source": []
  },
  {
   "cell_type": "markdown",
   "id": "51125a81",
   "metadata": {},
   "source": [
    "$\\Delta fs = fs \\sqrt{\\frac{2 \\Delta \\theta^{2} \\cos^{2}{\\left(\\frac{\\theta}{2} \\right)}}{1 - \\cos{\\left(\\theta \\right)}} + \\frac{\\Delta E_{2}^{2}}{E_{2}^{2}} + \\frac{\\Delta E_{1}^{2}}{E_{1}^{2}}}$"
   ]
  },
  {
   "cell_type": "markdown",
   "id": "f35a488a",
   "metadata": {},
   "source": [
    "$\\Delta fs\\Big|_{\\Delta E_1=0} = \\sqrt{16 E_{1}^{2} E_{2}^{2} \\Delta \\theta^{2} \\sin^{2}{\\left(\\frac{\\theta}{2} \\right)} \\cos^{2}{\\left(\\frac{\\theta}{2} \\right)} + 16 E_{1}^{2} \\Delta E_{2}^{2} \\sin^{4}{\\left(\\frac{\\theta}{2} \\right)}}$\\\\\n",
    "$\\Delta fs\\Big|_{\\Delta E_1=0} = \\sqrt{16 E_{1}^{2} E_{2}^{2} \\Delta \\theta^{2} \\sin^{2}{\\left(\\frac{\\theta}{2} \\right)} \\cos^{2}{\\left(\\frac{\\theta}{2} \\right)} + 16 E_{1}^{2} \\Delta E_{2}^{2} \\sin^{4}{\\left(\\frac{\\theta}{2} \\right)}}\n",
    "\\Delta fs\\Big|_{\\Delta E_1=0} = fs \\sqrt{\\frac{2 \\Delta \\theta^{2} \\cos^{2}{\\left(\\frac{\\theta}{2} \\right)}}{1 - \\cos{\\left(\\theta \\right)}} + \\frac{\\Delta E_{2}^{2}}{E_{2}^{2}}}$\\\\\n",
    "$$\\\\\n",
    "$$\\\\"
   ]
  },
  {
   "cell_type": "markdown",
   "id": "5dd0b053",
   "metadata": {},
   "source": []
  }
 ],
 "metadata": {
  "kernelspec": {
   "display_name": "Python 3 (ipykernel)",
   "language": "python",
   "name": "python3"
  },
  "language_info": {
   "codemirror_mode": {
    "name": "ipython",
    "version": 3
   },
   "file_extension": ".py",
   "mimetype": "text/x-python",
   "name": "python",
   "nbconvert_exporter": "python",
   "pygments_lexer": "ipython3",
   "version": "3.9.5"
  }
 },
 "nbformat": 4,
 "nbformat_minor": 5
}
